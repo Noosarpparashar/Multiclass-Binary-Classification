{
 "cells": [
  {
   "cell_type": "code",
   "execution_count": 1,
   "metadata": {},
   "outputs": [],
   "source": [
    "import numpy as np\n",
    "import pandas as pd\n",
    "import matplotlib.pyplot as plt\n",
    "%matplotlib inline"
   ]
  },
  {
   "cell_type": "code",
   "execution_count": 2,
   "metadata": {},
   "outputs": [],
   "source": [
    "df=pd.read_csv(\"wines.csv\")"
   ]
  },
  {
   "cell_type": "code",
   "execution_count": 3,
   "metadata": {},
   "outputs": [],
   "source": [
    "x=df.drop(['Class'],axis=1)"
   ]
  },
  {
   "cell_type": "code",
   "execution_count": 4,
   "metadata": {},
   "outputs": [],
   "source": [
    "y=df.loc[:,\"Class\"]"
   ]
  },
  {
   "cell_type": "code",
   "execution_count": 5,
   "metadata": {},
   "outputs": [],
   "source": [
    "y_cat=pd.get_dummies(y)"
   ]
  },
  {
   "cell_type": "code",
   "execution_count": 6,
   "metadata": {},
   "outputs": [],
   "source": [
    "from sklearn.model_selection import train_test_split, cross_val_score\n",
    "from sklearn.preprocessing import StandardScaler"
   ]
  },
  {
   "cell_type": "code",
   "execution_count": 7,
   "metadata": {},
   "outputs": [
    {
     "name": "stderr",
     "output_type": "stream",
     "text": [
      "C:\\Users\\hp\\Anaconda1\\lib\\site-packages\\sklearn\\preprocessing\\data.py:625: DataConversionWarning: Data with input dtype int64, float64 were all converted to float64 by StandardScaler.\n",
      "  return self.partial_fit(X, y)\n",
      "C:\\Users\\hp\\Anaconda1\\lib\\site-packages\\sklearn\\base.py:462: DataConversionWarning: Data with input dtype int64, float64 were all converted to float64 by StandardScaler.\n",
      "  return self.fit(X, **fit_params).transform(X)\n"
     ]
    }
   ],
   "source": [
    "sc=StandardScaler()\n",
    "X=sc.fit_transform(df.drop('Class',axis=1))"
   ]
  },
  {
   "cell_type": "code",
   "execution_count": 8,
   "metadata": {},
   "outputs": [],
   "source": [
    "X_train,X_test,y_train,y_test=train_test_split(X,y_cat,random_state=22,test_size=0.2)\n"
   ]
  },
  {
   "cell_type": "code",
   "execution_count": 9,
   "metadata": {},
   "outputs": [
    {
     "name": "stderr",
     "output_type": "stream",
     "text": [
      "Using TensorFlow backend.\n"
     ]
    }
   ],
   "source": [
    "from keras.layers import Input\n",
    "from keras.models import Model"
   ]
  },
  {
   "cell_type": "code",
   "execution_count": 10,
   "metadata": {},
   "outputs": [],
   "source": [
    "from keras .models import Sequential\n",
    "from keras .layers import Dense,Activation\n",
    "from keras.optimizers import Adam\n",
    "import keras.backend as K\n",
    "import tensorflow as tf"
   ]
  },
  {
   "cell_type": "code",
   "execution_count": 21,
   "metadata": {},
   "outputs": [
    {
     "data": {
      "text/plain": [
       "(36, 3)"
      ]
     },
     "execution_count": 21,
     "metadata": {},
     "output_type": "execute_result"
    }
   ],
   "source": [
    "y_test.shape\n"
   ]
  },
  {
   "cell_type": "code",
   "execution_count": 25,
   "metadata": {},
   "outputs": [
    {
     "data": {
      "text/plain": [
       "(178, 13)"
      ]
     },
     "execution_count": 25,
     "metadata": {},
     "output_type": "execute_result"
    }
   ],
   "source": [
    "X.shape"
   ]
  },
  {
   "cell_type": "code",
   "execution_count": 52,
   "metadata": {},
   "outputs": [
    {
     "name": "stdout",
     "output_type": "stream",
     "text": [
      "Epoch 1/20\n",
      "178/178 [==============================] - 1s 8ms/step - loss: 1.1125 - acc: 0.3876\n",
      "Epoch 2/20\n",
      "178/178 [==============================] - 0s 466us/step - loss: 0.9684 - acc: 0.5843\n",
      "Epoch 3/20\n",
      "178/178 [==============================] - 0s 471us/step - loss: 0.7964 - acc: 0.6517\n",
      "Epoch 4/20\n",
      "178/178 [==============================] - 0s 454us/step - loss: 0.6524 - acc: 0.8427\n",
      "Epoch 5/20\n",
      "178/178 [==============================] - 0s 415us/step - loss: 0.5436 - acc: 0.8539\n",
      "Epoch 6/20\n",
      "178/178 [==============================] - 0s 516us/step - loss: 0.4671 - acc: 0.8652\n",
      "Epoch 7/20\n",
      "178/178 [==============================] - 0s 421us/step - loss: 0.3953 - acc: 0.8876\n",
      "Epoch 8/20\n",
      "178/178 [==============================] - 0s 466us/step - loss: 0.3434 - acc: 0.9270\n",
      "Epoch 9/20\n",
      "178/178 [==============================] - 0s 449us/step - loss: 0.3051 - acc: 0.9438\n",
      "Epoch 10/20\n",
      "178/178 [==============================] - 0s 482us/step - loss: 0.2688 - acc: 0.9775\n",
      "Epoch 11/20\n",
      "178/178 [==============================] - 0s 454us/step - loss: 0.2433 - acc: 0.9888\n",
      "Epoch 12/20\n",
      "178/178 [==============================] - 0s 449us/step - loss: 0.2225 - acc: 0.9944\n",
      "Epoch 13/20\n",
      "178/178 [==============================] - 0s 466us/step - loss: 0.2051 - acc: 0.9944\n",
      "Epoch 14/20\n",
      "178/178 [==============================] - 0s 443us/step - loss: 0.1890 - acc: 0.9944\n",
      "Epoch 15/20\n",
      "178/178 [==============================] - 0s 482us/step - loss: 0.1752 - acc: 0.9944\n",
      "Epoch 16/20\n",
      "178/178 [==============================] - 0s 499us/step - loss: 0.1658 - acc: 1.0000\n",
      "Epoch 17/20\n",
      "178/178 [==============================] - 0s 516us/step - loss: 0.1484 - acc: 1.0000\n",
      "Epoch 18/20\n",
      "178/178 [==============================] - 0s 437us/step - loss: 0.1330 - acc: 1.0000\n",
      "Epoch 19/20\n",
      "178/178 [==============================] - 0s 482us/step - loss: 0.1167 - acc: 1.0000\n",
      "Epoch 20/20\n",
      "178/178 [==============================] - 0s 449us/step - loss: 0.1006 - acc: 1.0000\n"
     ]
    },
    {
     "data": {
      "text/plain": [
       "<keras.callbacks.History at 0x2b2d3913208>"
      ]
     },
     "execution_count": 52,
     "metadata": {},
     "output_type": "execute_result"
    }
   ],
   "source": [
    "inputs=Input(shape=(13,))\n",
    "first=Dense(8,kernel_initializer='he_normal', activation='relu')(inputs)\n",
    "second=Dense(5,kernel_initializer='he_normal', activation='relu')(first)\n",
    "secondtolast=Dense(2,kernel_initializer='he_normal', activation='relu')(second)\n",
    "outputs=Dense(3,activation='sigmoid',kernel_initializer='he_normal')(secondtolast)\n",
    "model=Model(inputs=inputs,outputs=outputs)\n",
    "\n",
    "model.compile(Adam(lr=0.01),\n",
    "              loss='categorical_crossentropy',\n",
    "              metrics=['accuracy'])\n",
    "model.fit(X,y_cat.values,batch_size=16,epochs=20,verbose=1)#If u rdoing things in innerlayer...Dont use X_train,y_train"
   ]
  },
  {
   "cell_type": "code",
   "execution_count": 53,
   "metadata": {},
   "outputs": [],
   "source": [
    "features_function=K.function([inputs],[outputs])"
   ]
  },
  {
   "cell_type": "code",
   "execution_count": 54,
   "metadata": {},
   "outputs": [],
   "source": [
    "features=features_function([X])[0]"
   ]
  },
  {
   "cell_type": "code",
   "execution_count": 55,
   "metadata": {},
   "outputs": [],
   "source": [
    "yu=np.asarray(y_cat)"
   ]
  },
  {
   "cell_type": "code",
   "execution_count": 56,
   "metadata": {},
   "outputs": [
    {
     "data": {
      "text/plain": [
       "<matplotlib.collections.PathCollection at 0x2b2d4e59ef0>"
      ]
     },
     "execution_count": 56,
     "metadata": {},
     "output_type": "execute_result"
    },
    {
     "data": {
      "image/png": "[encoded data removed]",
      "text/plain": [
       "<Figure size 432x288 with 1 Axes>"
      ]
     },
     "metadata": {
      "needs_background": "light"
     },
     "output_type": "display_data"
    }
   ],
   "source": [
    "plt.scatter(features[:,0], features[:,1], c=yu)"
   ]
  },
  {
   "cell_type": "code",
   "execution_count": null,
   "metadata": {},
   "outputs": [],
   "source": []
  }
 ],
 "metadata": {
  "kernelspec": {
   "display_name": "Python 3",
   "language": "python",
   "name": "python3"
  },
  "language_info": {
   "codemirror_mode": {
    "name": "ipython",
    "version": 3
   },
   "file_extension": ".py",
   "mimetype": "text/x-python",
   "name": "python",
   "nbconvert_exporter": "python",
   "pygments_lexer": "ipython3",
   "version": "3.6.8"
  }
 },
 "nbformat": 4,
 "nbformat_minor": 2
}
